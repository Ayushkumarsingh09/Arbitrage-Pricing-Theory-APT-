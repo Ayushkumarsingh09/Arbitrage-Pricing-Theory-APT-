{
 "cells": [
  {
   "cell_type": "code",
   "execution_count": null,
   "metadata": {},
   "outputs": [],
   "source": [
    "# Arbitrage Pricing Theory (APT) Demo\n",
    "\n",
    "# Import necessary libraries\n",
    "import pandas as pd\n",
    "import numpy as np\n",
    "from src.apt_calculator import calculate_expected_returns\n",
    "from src.data_preparation import prepare_data\n",
    "from src.visualization import plot_factor_vs_returns, plot_residuals_analysis\n",
    "\n",
    "# Step 1: Load data\n",
    "asset_returns = pd.read_csv(\"../data/inputs/asset_returns.csv\", index_col=\"Date\")\n",
    "factor_exposures = pd.read_csv(\"../data/inputs/factor_exposures.csv\", index_col=\"Asset\")\n",
    "factor_returns = pd.read_csv(\"../data/inputs/factor_returns.csv\", index_col=\"Date\")\n",
    "\n",
    "# Step 2: Prepare data\n",
    "prepared_data = prepare_data(asset_returns, factor_exposures, factor_returns)\n",
    "\n",
    "# Step 3: Calculate expected returns\n",
    "expected_returns, residuals = calculate_expected_returns(prepared_data)\n",
    "\n",
    "# Display expected returns and residuals\n",
    "print(\"Expected Returns:\\n\", expected_returns)\n",
    "print(\"\\nResiduals:\\n\", residuals)\n",
    "\n",
    "# Step 4: Visualize results\n",
    "plot_factor_vs_returns(prepared_data['factor_returns'])\n",
    "plot_residuals_analysis(residuals)\n",
    "\n",
    "print(\"APT Demo completed. Check the charts in the 'data/outputs/charts/' directory.\")\n"
   ]
  }
 ],
 "metadata": {
  "language_info": {
   "name": "python"
  }
 },
 "nbformat": 4,
 "nbformat_minor": 2
}
